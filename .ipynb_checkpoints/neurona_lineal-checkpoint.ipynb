{
 "cells": [
  {
   "cell_type": "markdown",
   "metadata": {},
   "source": [
    "<img src=\"imagenes/rn3.png\" width=\"200\">\n",
    "<img src=\"http://www.identidadbuho.uson.mx/assets/letragrama-rgb-150.jpg\" width=\"200\">"
   ]
  },
  {
   "cell_type": "markdown",
   "metadata": {},
   "source": [
    "# [Curso de Redes Neuronales](https://curso-redes-neuronales-unison.github.io/Temario/)\n",
    "\n",
    "# Una sola neurona lineal\n",
    "\n",
    "[**Julio Waissman Vilanova**](http://mat.uson.mx/~juliowaissman/) \n",
    "\n",
    "*Ultima revisión*: 31 de enero de 2019.\n",
    "\n",
    "En esta libreta vamos a revisar los aspectos básicos del aprendizaje para una sola neurona de salida lineal, sin capas ocultas y usando el criterio de pérdida MSE. El algoritmo es muy simple pero es importante tener claro lo que se requiere antes de pasar a cosas más complicadas.\n",
    "\n",
    "Empecemos por inicializar los modulos que vamos a requerir."
   ]
  },
  {
   "cell_type": "code",
   "execution_count": 1,
   "metadata": {},
   "outputs": [],
   "source": [
    "%matplotlib inline\n",
    "import numpy as np\n",
    "import matplotlib.pyplot as plt\n",
    "\n",
    "plt.rcParams['figure.figsize'] = (16,8)\n",
    "plt.style.use('ggplot')"
   ]
  },
  {
   "cell_type": "markdown",
   "metadata": {},
   "source": [
    "# 1. Un ejemplo en una sola dimensión\n",
    "\n",
    "Una función muy importante para poder realizar aprendizaje máquina es la capacidad de poder manejar, cargar y guardar datos. en esta libreta vamos a empezar con lo más básico: leer datos desde un archivo texto (o un archivo.cvs). Más adelante revisaremos como recolectar datos de internet, de archivos tipo excel o de bases de datos.\n",
    "\n",
    "*Numpy* cuenta con varios métodos para leer y guardar datos. La más utilizada para cargar datos provenientes de un archivo de texto es `loadtxt`. Para obtener la documentación de la función, simplemente ejecuta la celda siguiente: "
   ]
  },
  {
   "cell_type": "code",
   "execution_count": 2,
   "metadata": {},
   "outputs": [],
   "source": [
    "np.loadtxt?"
   ]
  },
  {
   "cell_type": "markdown",
   "metadata": {},
   "source": [
    "Es importante ver que esta función directamente carga los datos existentes en el archivo en un `ndarray`. ¿Y si tenemos uno o varios `ndarrays` con las cosas que hemos desarrollado y los queremos guardar en disco (por ejemplo el vector $\\omega$ de parámetros)? \n",
    "\n",
    "Vamos a abrir y a visualizar unos datos que se encuentran en el archivo `carretas.txt` (abrelos con un editor de texto si quieres ver el archivo original). En este archivo se tiene las ganancias anuales (en dolares) de unos tacos de carreta (bueno, su equivalente gringo) respecto al tamaño de la ciudad donde se encuentra la carreta. Estos datos provienen de el curso de *Machine learning* de *coursera* de *Andrew Ng*.\n"
   ]
  },
  {
   "cell_type": "code",
   "execution_count": 3,
   "metadata": {},
   "outputs": [
    {
     "data": {
      "image/png": "[encoded data removed]",
      "text/plain": [
       "<Figure size 432x288 with 1 Axes>"
      ]
     },
     "metadata": {
      "needs_background": "light"
     },
     "output_type": "display_data"
    }
   ],
   "source": [
    "# Lee los datos en un nd array llamado datos\n",
    "datos = np.loadtxt('datos/carretas.txt', comments='%', delimiter=',')\n",
    "\n",
    "# Separa los datos de entrada de los de salida.\n",
    "# si decimos que x = datos[:,0], pues se toma solo una columna de datos,\n",
    "# por lo que x sería un ndarray de forma (shape) (96,). Al decir x = datos[:, 0:1] \n",
    "# significa que vamos a tomar todas las columnas de 0 a una antes de 1, por lo\n",
    "# que x tiene una forma (96, 1). Para mantener generalidad, es mejor manejar x xomo una matriz\n",
    "# de una sola columna que como un vector de una dimensión.\n",
    "x, y = datos[:,0:1], datos[:,1]\n",
    "\n",
    "# T es el número de instancias y n el de atributos\n",
    "T, n = x.shape\n",
    "\n",
    "plt.plot(x, y, 'rx')\n",
    "plt.title(u'Ganancias anuales de una carreta de acuerdo al tamaño de una ciudad')\n",
    "plt.xlabel(r\"Poblaci$\\'o$n ($\\times 10^4$ habitantes)\")\n",
    "plt.ylabel(r'Beneficios ($\\times 10^4$ dolares)')\n",
    "plt.show()"
   ]
  },
  {
   "cell_type": "markdown",
   "metadata": {},
   "source": [
    "Listo, ya temos los datos. La hipótesis que hacemos es que el valor de salida lo podemos estimar como\n",
    "\n",
    "$$\n",
    "\\hat{y}^{(i)} = h_\\omega(x^{(i)}) = \\omega_1 x^{(i)} + b\n",
    "$$\n"
   ]
  },
  {
   "cell_type": "markdown",
   "metadata": {},
   "source": [
    "El criterio MSE como función de pérdida es el de minimizar el costo definido como\n",
    "$$\n",
    "Loss(\\omega, b) = \\frac{1}{2M} \\sum_{i = 1}^M (y^{(i)} - \\hat{y}^{(i)})^2.\n",
    "$$\n",
    "\n",
    "Por lo tanto, para saber si estamos minimizando o no, debemos ser capaces de medir la función de pérdida. \n",
    "\n",
    "**Desarrolla la función de pérdida tal como se pide abajo**"
   ]
  },
  {
   "cell_type": "code",
   "execution_count": 28,
   "metadata": {},
   "outputs": [],
   "source": [
    "def mse_loss(x, y, w, b):\n",
    "    \"\"\"\n",
    "    Calcula el costo de acuerdo al criterio de MSE (mean square error) asumiendo un conjunto de datos\n",
    "    x, con una salida y, y una hipótesis lineal parametrizada por omega\n",
    "    \n",
    "    Parámetros\n",
    "    ----------\n",
    "    x: Un ndarray de dimension (M, n)\n",
    "    y: Un ndarray de dimensión (M, )\n",
    "    w: Un ndarray de dimensión (n, )\n",
    "    b: Un flotante\n",
    "    \n",
    "    Devuelve\n",
    "    --------\n",
    "    Un flotante con el costo\n",
    "    \n",
    "    \"\"\"\n",
    "    M, n = x.shape\n",
    "        \n",
    "    # Puedes hacerlo en forma de ciclos\n",
    "    # J = 0\n",
    "    # for instancia in range(M):\n",
    "    #    J += --inserta aqui tu código--\n",
    "    # return --inserta aquí tu código--\n",
    "\n",
    "    \n",
    "    # Puedes hacerlo directamente en forma matricial (así debería de ser)\n",
    "    # error = --aqui se inserta código--\n",
    "    # return --aqui se inserta código--\n",
    "    \n",
    "    y_aprox = x @ w + b\n",
    "    return np.sum((y - y_aprox)**2) / (2 * M)\n"
   ]
  },
  {
   "cell_type": "markdown",
   "metadata": {},
   "source": [
    "y para probar si está bien el programa, si calculamos $Loss(\\omega, b)$ para $\\omega_1 = 0$, $b = 1$ debe de dar (para este conjunto de datos) **26.73** (recuerda verificar que regrese un flotante y no un vector de un solo elemento)."
   ]
  },
  {
   "cell_type": "code",
   "execution_count": 29,
   "metadata": {},
   "outputs": [
    {
     "ename": "ValueError",
     "evalue": "matmul: Input operand 1 has a mismatch in its core dimension 0, with gufunc signature (n?,k),(k,m?)->(n?,m?) (size 97 is different from 1)",
     "output_type": "error",
     "traceback": [
      "\u001b[0;31m---------------------------------------------------------------------------\u001b[0m",
      "\u001b[0;31mValueError\u001b[0m                                Traceback (most recent call last)",
      "\u001b[0;32m<ipython-input-29-00847c144ab9>\u001b[0m in \u001b[0;36m<module>\u001b[0;34m\u001b[0m\n\u001b[1;32m      1\u001b[0m \u001b[0mw\u001b[0m \u001b[0;34m=\u001b[0m \u001b[0mnp\u001b[0m\u001b[0;34m.\u001b[0m\u001b[0mzeros\u001b[0m\u001b[0;34m(\u001b[0m\u001b[0;34m[\u001b[0m\u001b[0mn\u001b[0m\u001b[0;34m]\u001b[0m\u001b[0;34m)\u001b[0m\u001b[0;34m\u001b[0m\u001b[0;34m\u001b[0m\u001b[0m\n\u001b[1;32m      2\u001b[0m \u001b[0mb\u001b[0m \u001b[0;34m=\u001b[0m \u001b[0;36m1\u001b[0m\u001b[0;34m\u001b[0m\u001b[0;34m\u001b[0m\u001b[0m\n\u001b[0;32m----> 3\u001b[0;31m \u001b[0mprint\u001b[0m\u001b[0;34m(\u001b[0m\u001b[0;34m\"La pérdida es {}\"\u001b[0m\u001b[0;34m.\u001b[0m\u001b[0mformat\u001b[0m\u001b[0;34m(\u001b[0m\u001b[0mmse_loss\u001b[0m\u001b[0;34m(\u001b[0m\u001b[0mx\u001b[0m\u001b[0;34m,\u001b[0m \u001b[0my\u001b[0m\u001b[0;34m,\u001b[0m \u001b[0mw\u001b[0m\u001b[0;34m,\u001b[0m \u001b[0mb\u001b[0m\u001b[0;34m)\u001b[0m\u001b[0;34m)\u001b[0m\u001b[0;34m)\u001b[0m\u001b[0;34m\u001b[0m\u001b[0;34m\u001b[0m\u001b[0m\n\u001b[0m",
      "\u001b[0;32m<ipython-input-28-3dbad270c5d5>\u001b[0m in \u001b[0;36mmse_loss\u001b[0;34m(x, y, w, b)\u001b[0m\n\u001b[1;32m     29\u001b[0m     \u001b[0;31m# return --aqui se inserta código--\u001b[0m\u001b[0;34m\u001b[0m\u001b[0;34m\u001b[0m\u001b[0;34m\u001b[0m\u001b[0m\n\u001b[1;32m     30\u001b[0m \u001b[0;34m\u001b[0m\u001b[0m\n\u001b[0;32m---> 31\u001b[0;31m     \u001b[0my_aprox\u001b[0m \u001b[0;34m=\u001b[0m \u001b[0mw\u001b[0m \u001b[0;34m@\u001b[0m \u001b[0mx\u001b[0m \u001b[0;34m+\u001b[0m \u001b[0mb\u001b[0m\u001b[0;34m\u001b[0m\u001b[0;34m\u001b[0m\u001b[0m\n\u001b[0m\u001b[1;32m     32\u001b[0m     \u001b[0;32mreturn\u001b[0m \u001b[0mnp\u001b[0m\u001b[0;34m.\u001b[0m\u001b[0msum\u001b[0m\u001b[0;34m(\u001b[0m\u001b[0;34m(\u001b[0m\u001b[0my\u001b[0m \u001b[0;34m-\u001b[0m \u001b[0my_aprox\u001b[0m\u001b[0;34m)\u001b[0m\u001b[0;34m**\u001b[0m\u001b[0;36m2\u001b[0m\u001b[0;34m)\u001b[0m \u001b[0;34m/\u001b[0m \u001b[0;34m(\u001b[0m\u001b[0;36m2\u001b[0m \u001b[0;34m*\u001b[0m \u001b[0mM\u001b[0m\u001b[0;34m)\u001b[0m\u001b[0;34m\u001b[0m\u001b[0;34m\u001b[0m\u001b[0m\n",
      "\u001b[0;31mValueError\u001b[0m: matmul: Input operand 1 has a mismatch in its core dimension 0, with gufunc signature (n?,k),(k,m?)->(n?,m?) (size 97 is different from 1)"
     ]
    }
   ],
   "source": [
    "w = np.zeros([n])\n",
    "b = 1\n",
    "print(\"La pérdida es {}\".format(mse_loss(x, y, w, b)))"
   ]
  },
  {
   "cell_type": "markdown",
   "metadata": {},
   "source": [
    "Muy bien, ya podemos calcular el criterio a optimizar (la función de pérdida). Vamos entonces a utilizar la función que acabamos de hacer para ver sus valores para diferentes valores de $\\omega$ y $b$."
   ]
  },
  {
   "cell_type": "code",
   "execution_count": null,
   "metadata": {},
   "outputs": [],
   "source": [
    "# Definimos una función que depende solo de b y theta1\n",
    "def costo_w(b, w1):\n",
    "    return mse_loss(x, y, np.array([w1]), b)\n",
    "\n",
    "# Y ahora la convertimos en una función tipo numpy (aplica para cualquier entrada de ndarrays)\n",
    "costo_vect = np.frompyfunc(costo_w, 2, 1)\n",
    "\n",
    "#Ahora generamos la lista de valores para graficar\n",
    "b = np.linspace(-15, 10, 100);\n",
    "w1 = np.linspace(-2, 4, 100);\n",
    "\n",
    "# Y los convertimos en matrices utilizando la función meshgrid\n",
    "b, w1 = np.meshgrid(b, w1)\n",
    "\n",
    "# Y calculamos los costos para cada par de theta0 y theta 1 con nuestra nueva funcion de costos vectorizada\n",
    "J = costo_vect(b, w1)\n",
    "\n",
    "# Y graficamos el contorno\n",
    "plt.contour(b, w1, J, 80, linewidths=0.5, colors='k')\n",
    "plt.contourf(b, w1, J, 80, cmap=plt.cm.rainbow, vmax=J.max(), vmin=J.min())\n",
    "plt.colorbar()\n",
    "plt.xlabel(r\"$b$\")\n",
    "plt.ylabel(r\"$\\omega_1$\")\n",
    "plt.title(r\"Funcion de perdida\")\n",
    "        "
   ]
  },
  {
   "cell_type": "markdown",
   "metadata": {},
   "source": [
    "Ahora si, ya tenemos todo para hacer nuestra función para encontrar los parámetros que optimicen la función de costo (que como se puede ver en la superficie debería de estar por donde $b$ vale entre 0 y -5 y $\\omega_1$ entre 1 y 2). \n",
    "\n",
    "**Desarrolla la función con descenso de gradiente.**"
   ]
  },
  {
   "cell_type": "code",
   "execution_count": null,
   "metadata": {},
   "outputs": [],
   "source": [
    "def grad_costo(x, y, w, b):\n",
    "    \"\"\"\n",
    "    Calcula el gradiente respecto a w y b de los datos existentes\n",
    "    \n",
    "    Parámetros\n",
    "    ----------\n",
    "    x: ndarray de dimension [M, n] con los datos de entrada\n",
    "    y: ndarray de dimension [M,] con los datos de salida\n",
    "    w: ndarray de dimension [n, ] con los pesos \n",
    "    b: flotante con el sesgo \n",
    "    \n",
    "    Devuelve\n",
    "    --------\n",
    "    dw, db: donde dw es un vector de dimension de w con el gradiente\n",
    "            de la función de costo respecto a w, y db es la derivada de la\n",
    "            funcion de costo respecto a b\n",
    "\n",
    "    \"\"\"\n",
    "    error = y - (x @ w + b)\n",
    "\n",
    "    # --aqui hay que poner código--        \n",
    "\n",
    "    \n",
    "    #------------------------------\n",
    "\n",
    "    return dw, db \n",
    "\n",
    "def descenso_gradiente_lotes(x, y, w_0, b_0, alpha, num_iter):\n",
    "    \"\"\"\n",
    "    Descenso de gradiente durante num_iter iteraciones para regresión lineal\n",
    "    \n",
    "    Parámetros\n",
    "    -----------\n",
    "    x: ndarray de dimension [M, n] con los datos de entrada\n",
    "    y: ndarray de dimension [M,] con los datos de salida\n",
    "    w_0: ndarray de dimension [n, ] con los pesos iniciales\n",
    "    b_0: flotante con el sesgo inicial\n",
    "    alpha: flotante con tamaño de paso o tasa de aprendizaje.\n",
    "    num_iter: numero de iteraciones (entero)\n",
    "    \n",
    "    Devuelve\n",
    "    --------\n",
    "    w, b, mse_iter: donde w y b tiene las dimensiones de w_0 y b_0 con los parámetros \n",
    "                    aprendidos, mientras que mse_hist es un ndarray de dimensión \n",
    "                    [num_iter, 1] con el costo en cada iteración.\n",
    "    \n",
    "    \"\"\"\n",
    "    w, b = w_0.copy(), b_0\n",
    "    mse_iter = np.zeros(num_iter)    \n",
    "    M, n = x.shape\n",
    "    \n",
    "    for iter in range(num_iter):\n",
    "        \n",
    "        dw, db = grad_costo(x, y, w, b)\n",
    "        \n",
    "        # --aqui hay que poner código--        \n",
    "\n",
    "\n",
    "        \n",
    "        #------------------------------\n",
    "        \n",
    "        mse_iter[iter] = mse_loss(x, y, w, b)\n",
    "\n",
    "    return w, b, mse_iter\n",
    "     "
   ]
  },
  {
   "cell_type": "markdown",
   "metadata": {},
   "source": [
    "Y para saber si el algoritmo se programo bien, se puede probar en el problema del *food truck* y revisar si el valor de la función de pérdida se va reduciendo hasta estabilizarse en un mínimo."
   ]
  },
  {
   "cell_type": "code",
   "execution_count": null,
   "metadata": {},
   "outputs": [],
   "source": [
    "w_0 = np.zeros((n,))\n",
    "b_0 = 0.0\n",
    "\n",
    "iteraciones = 1500\n",
    "alpha = 0.01\n",
    "\n",
    "w, b, mse_historial = descenso_gradiente_lotes(x, y, w_0, b_0, alpha, iteraciones)\n",
    "\n",
    "\n",
    "plt.plot(mse_historial, 'b')\n",
    "plt.title(u'MSE por iteración')\n",
    "plt.xlabel(u'iteración')\n",
    "plt.ylabel(r'$Loss(\\omega, b)$')\n",
    "plt.figtext(x=.6, y=.6, s=\"Al final de las iteraciones:\\n\\n w1 = {}\\n b    = {}\".format(w[0], b))\n",
    "plt.show()"
   ]
  },
  {
   "cell_type": "markdown",
   "metadata": {},
   "source": [
    "Ahora vamos a revisar virtualmente si la estimación es una linea recta que pasa entre todos los puntos.\n",
    "\n",
    "**Completa los pasos para realizar la estimación.**"
   ]
  },
  {
   "cell_type": "code",
   "execution_count": null,
   "metadata": {},
   "outputs": [],
   "source": [
    "x_estimar = np.array([[4],[24]])\n",
    "\n",
    "#\n",
    "# Agrega el codigo necesario\n",
    "#\n",
    "# y_estimado = --aquí hay que poner código--\n",
    "\n",
    "\n",
    "print(\"Los valores estimados son: {}\".format(y_estimado))"
   ]
  },
  {
   "cell_type": "markdown",
   "metadata": {},
   "source": [
    "Si los valores que obtuviste son cercanos a 1 (10000 dolares) y 24.3 (243000 dolares) entonces estamos en los valores esperados. Ahora vamos a usar estos valores para graficar los datos reales y la estimación realizada:"
   ]
  },
  {
   "cell_type": "code",
   "execution_count": null,
   "metadata": {},
   "outputs": [],
   "source": [
    "plt.plot(x[:], y, 'xr')\n",
    "plt.plot(x_estimar[:,0], y_estimado, '-b')\n",
    "plt.title(u'Ganancias anuales de una carreta de acuerso al tamaño de una ciudad')\n",
    "plt.xlabel(r\"Poblaci$\\'o$n ($\\times 10^4$ habitantes)\")\n",
    "plt.ylabel(r'Beneficios ($\\times 10^4$ dolares)')\n",
    "plt.show()"
   ]
  },
  {
   "cell_type": "markdown",
   "metadata": {},
   "source": [
    "**¡Felicidades!** Acabas de terminar el algoritmo de aprendizaje más usado en el mundo."
   ]
  },
  {
   "cell_type": "markdown",
   "metadata": {},
   "source": [
    "# 2. Un ejemplo en multiples dimensiones\n",
    "\n",
    "Como el algortimo realizado ya funciona para muchas dimensiones, no se espera tener mucho problema para utilizarlos. Así que ahora vamos a cargar datos y vamos a graficar la salida respecto a dos variables"
   ]
  },
  {
   "cell_type": "code",
   "execution_count": null,
   "metadata": {},
   "outputs": [],
   "source": [
    "datos = np.loadtxt('datos/casas_portland.txt', comments='%', delimiter=',')\n",
    "x, y = datos[:, :-1], datos[:,-1] \n",
    "\n",
    "# M es el número de instancias y n el de atributos\n",
    "M, n = x.shape\n",
    "\n",
    "plt.plot(x[:,0], y, 'rx')\n",
    "plt.title(u'Costo de una casa en relación a su tamaño')\n",
    "plt.xlabel(u\"tamaño (pies cuadrados)\")\n",
    "plt.ylabel('costo ')\n",
    "\n",
    "plt.figure()\n",
    "plt.plot(x[:,1], y, 'rx')\n",
    "plt.title(u'Costo de una casa en relación al número de cuartos')\n",
    "plt.xlabel(\"cuartos\")\n",
    "\n"
   ]
  },
  {
   "cell_type": "markdown",
   "metadata": {},
   "source": [
    "Antes de realizar el aprendizaje podemos ver que mientras una de las variables se mide en miles de pies cuadrados, la otra variable tiene valores de 1 a 4. Esto es un problema para el algoritmo del descenso de gradiente, por lo que es necesario normalizar los datos (solo para este algoritmo) y que funcione de manera correcta. \n",
    "\n",
    "Para normalizar requerimos de dos pasos, por un lado, obtener los valores de medias y desviaciones estandares por atributo, y en segundo lugar, realizar la normalización. Los valores de medias y desviaciones estandares hay que guardarlos, ya que serán necesarios para poder normalizar los datos que se quiera estimar.\n",
    "\n",
    "**Escribe la función que devuelve los valores de medias t desviaciones estandares.**"
   ]
  },
  {
   "cell_type": "code",
   "execution_count": null,
   "metadata": {},
   "outputs": [],
   "source": [
    "def obtiene_medias_desviaciones(x):\n",
    "    \"\"\"\n",
    "    Obtiene las medias y las desviaciones estandar atributo a atributo.\n",
    "    \n",
    "    Parámetros\n",
    "    ----------\n",
    "    x: un ndarray de dimensión (T, n) donde T es el númro de elementos y \n",
    "       n el número de atributos\n",
    "    \n",
    "    Devuelve\n",
    "    ---------\n",
    "    medias, desviaciones: donde ambos son ndarrays de dimensiones (n,) con \n",
    "                          las medias y las desviaciones estandar respectivamente.\n",
    "    \n",
    "    \"\"\"\n",
    "    # Escribe aqui el código\n",
    "    #\n",
    "    #\n",
    "    #    \n",
    "\n",
    "    \n",
    "def normaliza(x, medias, desviaciones):\n",
    "    \"\"\"\n",
    "    Normaliza los datos x\n",
    "\n",
    "    Parámetros\n",
    "    ----------\n",
    "    x: un ndarray de dimensión (T, n) donde T es el númro de elementos y n el número de atributos\n",
    "    medias: ndarray de dimensiones (n,) con las medias con las que se normalizará\n",
    "    desviaciones: ndarray de dimensiones (n,) con las desviaciones con las que se normalizará\n",
    "    \n",
    "    Devuelve\n",
    "    --------\n",
    "    x_norm, un ndarray de las mismas dimensiones de x pero normalizado\n",
    "    \n",
    "    \"\"\"\n",
    "    return (x - medias) / desviaciones\n",
    "        \n",
    "\n",
    "# Y ahora vamos a hacer algo muy simple para probar, que pueden corroborar con el uso de una calculadora común.\n",
    "x_prueba = np.array([[1, 300],\n",
    "                    [3, 100],\n",
    "                    [2, 400],\n",
    "                    [4, 200]])\n",
    "m, d = obtiene_medias_desviaciones(x_prueba)\n",
    "\n",
    "print(\"Los datos son: \\n{}\".format(x_prueba))\n",
    "print(\"Las medias son: \\n{}\".format(m))\n",
    "print(\"Las desviaciones son: \\n{}\".format(d))\n",
    "print(\"Los datos normalizados son: \\n{}\".format(normaliza(x_prueba, m, d)))\n"
   ]
  },
  {
   "cell_type": "markdown",
   "metadata": {},
   "source": [
    "Listo, entonces ya podemos hacer descenso de gradiente, o casi. El problema es que no sabemos cual sería el mejor valor para $\\alpha$. Escoge el valor de $\\alpha$ realizando una gráfica de 50 iteraciones solamente para valores desde 0.001, 0.005, 0.01, 0.05, 0.1, 0.5, ... y decide cual de los valores es el que más te conviene.\n",
    "\n",
    "**Selecciona un valor, especifica aquí cual es, y justifica porque lo seleccionaste.**"
   ]
  },
  {
   "cell_type": "code",
   "execution_count": null,
   "metadata": {},
   "outputs": [],
   "source": [
    "medias, desviaciones = obtiene_medias_desviaciones(x)\n",
    "x_norm = normaliza(x, medias, desviaciones)\n",
    "\n",
    "w_ini = np.zeros((n,))\n",
    "b_ini = 0\n",
    "num_iters = 50\n",
    "\n",
    "alpha = 0.0001  # Aqui es donde hay que hacer las pruebas\n",
    "alpha = 0.1\n",
    "\n",
    "_, _, mse_hist = descenso_gradiente_lotes(x_norm, y, w_ini, b_ini, alpha, num_iters)\n",
    "\n",
    "plt.plot(mse_hist, '-b')\n",
    "plt.title(r\"La curva de aprendizaje para $\\alpha =$ \" + str(alpha))\n",
    "plt.xlabel('iteraciones')\n",
    "plt.ylabel('MSE')"
   ]
  },
  {
   "cell_type": "markdown",
   "metadata": {},
   "source": [
    "**Utilizando las iteraciones necesarias, encuentra el valor de $\\omega$ y $b$ utilizando el descenso de gradiente.**"
   ]
  },
  {
   "cell_type": "code",
   "execution_count": null,
   "metadata": {},
   "outputs": [],
   "source": [
    "# Aqui ya no pongo código, esto debe ser relativamente simple"
   ]
  },
  {
   "cell_type": "markdown",
   "metadata": {},
   "source": [
    "**Obten el valor de una casa de 1650 pies cuadrados y 3 recamaras con el modelo obtenido (recuerda que hay que normalizar).**"
   ]
  },
  {
   "cell_type": "code",
   "execution_count": null,
   "metadata": {},
   "outputs": [],
   "source": [
    "# Escribe aquí el código\n",
    "\n"
   ]
  },
  {
   "cell_type": "markdown",
   "metadata": {},
   "source": [
    "# 3. Regularización\n",
    "\n",
    "Un detalle que se nos falta revisar es el efecto de a regularización en la regresión, y lo vamos a realizar a partir de un ejemplo sobre ajuste de curvas con polinomios, generando datos sintéticos. La función que vamos a tratar de ajustar, utilizando 20 puntos seleccionados al azar es:\n",
    "\n",
    "$$f(x) = \\exp(-\\frac{x}{2}) \\sin(2x)$$\n",
    "\n",
    "Para esto, vamos a generar (utilizando una semilla común, para que todos obtengamos los mismos resultados) datos provenientes de un modelo que es un polinomio de orden superior.\n",
    "\n"
   ]
  },
  {
   "cell_type": "code",
   "execution_count": null,
   "metadata": {},
   "outputs": [],
   "source": [
    "rng = np.random.RandomState(10)\n",
    "\n",
    "\n",
    "# Función a aproximar\n",
    "def f(x): return np.exp(-x/2) * np.sin(2*x)\n",
    " \n",
    "# Datos para graficar\n",
    "x_plot = np.linspace(0, 10, 1000)\n",
    "y_plot = f(x_plot)\n",
    "\n",
    "# Genera puntos y selecciona 20 en forma aleatoria \n",
    "x_train = np.linspace(0, 10, 100)\n",
    "rng.shuffle(x_train)\n",
    "x_train = np.sort(x_train[:25])\n",
    "y_train = f(x_train) + 0.1 * np.random.randn(25)\n",
    "\n",
    "\n",
    "# Graficamos la función original y los puntos que vamos a utilizar para el aprendizaje\n",
    "plt.plot(x_plot, y_plot, label=\"La función original\")\n",
    "plt.scatter(x_train, y_train, label=\"datos para el entrenamiento\")\n",
    "plt.title(\"Datos sintéticos para revisar el uso de regularización\")\n",
    "plt.show()\n"
   ]
  },
  {
   "cell_type": "markdown",
   "metadata": {},
   "source": [
    "Ahora vamos a ver que pasa si tratamos de ajustar un modelo con diferentes polinomios. La generación de atributos polinomiales la incluyo en este caso, ya que lo que nos interesa es estudiar el efecto de la regularizacion sobre todo.\n",
    "\n",
    "Para ver el problema de utilizar el método de desceno de gradiente utilizando varias variables vamos a ver el caso sin regularizar primero. Como ejemplo, vamos a poner el resultado obtenido con el método anaítico. Como vemos (o veremos) en la figura, el uso de un polinomio de orden 20 (mayor) no ofrece forzosamente una solución que se apegue a la función original."
   ]
  },
  {
   "cell_type": "code",
   "execution_count": null,
   "metadata": {},
   "outputs": [],
   "source": [
    "plt.plot(x_plot, y_plot, label=\"La función original\")\n",
    "plt.scatter(x_train, y_train, label=\"datos para el entrenamiento\")\n",
    "\n",
    "for g in [3, 5, 8, 15]:\n",
    "\n",
    "    # Expansión a un polinomio de orden ng\n",
    "    x_g = np.power(x_train.reshape(-1,1), range(0, g + 1))\n",
    "    x_g_plot = np.power(x_plot.reshape(-1,1), range(0, g + 1))\n",
    "    \n",
    "    w = np.linalg.pinv(x_g) @ y_train    \n",
    "    y_g = x_g_plot @ w \n",
    "    \n",
    "    plt.plot(x_plot, y_g, label=\"polinomio orden {}\".format(g))\n",
    "    \n",
    "plt.legend()\n",
    "plt.axis([0, 10, -0.5, 1])\n",
    "   \n",
    "    "
   ]
  },
  {
   "cell_type": "markdown",
   "metadata": {},
   "source": [
    "\n",
    "El método de descenso de gradiente está lejos de ser un método óptimo y/o eficiente, cuando se tiene soluciones analíticas, o cuando es posible obtener en forma analítica la segunda derivada (y por lo tanto metodos como gradiente conjugado o el de Newton se pueden realizar). Con el fin de ilustrar esto, realiza los siguientes ejercicios.\n",
    "\n",
    "**Desarrolla una función que utilice el método de descenso de gradiente y obtenga \n",
    "resultados similares a los de la ecuación normal.**\n",
    "\n",
    "**¿Que pasa si no utlizas la normalización de datos?**\n",
    "\n",
    "**¿Cuál es la mejor $\\alpha$ para el ajuste del polinomio de orden 8?**\n",
    "\n",
    "**¿Cuál es el número ideal de *epochs*?**"
   ]
  },
  {
   "cell_type": "code",
   "execution_count": null,
   "metadata": {},
   "outputs": [],
   "source": [
    "\n",
    "plt.plot(x_plot, y_plot, label=\"La función original\")\n",
    "plt.scatter(x_train, y_train, label=\"datos para el entrenamiento\")\n",
    "\n",
    "for g in [3, 5, 8, 18]:\n",
    "\n",
    "    # Expansión a un polinomio de orden ng\n",
    "    x_g = np.power(x_train.reshape(-1,1), range(1, g + 1))\n",
    "    x_g_plot = np.power(x_plot.reshape(-1,1), range(1, g + 1))\n",
    "\n",
    "    # Escribe aqui el código\n",
    "    #\n",
    "    #  1. Normaliza (ambos conjuntos)\n",
    "    #  2. Entrenamiento (con los datos de aprendizaje)\n",
    "    #  3. Reconocimiento (con lo datos de graficación) \n",
    "    #  El resultado se guarda en y_g\n",
    "    #\n",
    "    #\n",
    "    #\n",
    "\n",
    "    plt.plot(x_plot, y_g, label=\"polinomio orden {}\".format(g))\n",
    "    \n",
    "plt.legend()\n",
    "plt.axis([0, 10, -0.5, 1]) \n",
    "plt.show()\n",
    "    "
   ]
  },
  {
   "cell_type": "markdown",
   "metadata": {},
   "source": [
    "La regularización es un método para poder manejar una cantidad importante de parámetrs y que siga funcionando el sistema de alguna manera. Los métodos de regularización más comunes son\n",
    "\n",
    "- Regularización L2: $$reg(w) = w^Tw$$\n",
    "- Regularización L1: $$reg(w) = \\sum_{i=1}^n |\\omega_i|$$\n",
    "\n",
    "y a la función objetivo para optimización (costo) es en adelante la ponderación de la función de pérdida por la regularización.\n",
    "\n",
    "$$costo(w, b) = Loss(w, b) + \\frac{\\lambda}{M} reg(w)$$\n",
    "\n",
    "Así, el costo se usa para optimizar, aunque lo que realmente nos interese es la función de pérdida.\n",
    "\n",
    "**Completa el código para calcular el costo y el gradiente del costo para poder ser utilizados dentro del algoritmo de descenso de gradiente.**\n"
   ]
  },
  {
   "cell_type": "code",
   "execution_count": null,
   "metadata": {},
   "outputs": [],
   "source": [
    "def costo(x, y, w, b, lmda=0.0, tipo='L2'):\n",
    "    \"\"\"\n",
    "    Calcula el costo MSE con regularización\n",
    "    \n",
    "    Parámetros\n",
    "    ----------\n",
    "    x: Un ndarray de dimension (M, n)\n",
    "    y: Un ndarray de dimensión (M, )\n",
    "    w: Un ndarray de dimensión (n, )\n",
    "    b: Un flotante\n",
    "    lmda: Un flotante con el valor de lambda para la regularización\n",
    "    tipo: string con el tipo de regularización ('L2' o 'L1')\n",
    "    \n",
    "    Devuelve\n",
    "    --------\n",
    "    Un flotante con el costo    \n",
    "    \n",
    "    \"\"\"\n",
    "    M, n = x.shape\n",
    "    return mse_loss(x, y, w, b) + (lmda / M) * reg(w, tipo)\n",
    "\n",
    "def reg(w, tipo):\n",
    "    \"\"\"\n",
    "    Calcula la regularización, que solo depende de los parámetros\n",
    "\n",
    "    Parámetros\n",
    "    ----------\n",
    "    w: Un ndarray de dimensión (n, )\n",
    "    tipo: string con el tipo de regularización ('L2' o 'L1')\n",
    "    \n",
    "    Devuelve\n",
    "    --------\n",
    "    Un flotante con el valor del costo de regularización\n",
    "\n",
    "    \"\"\"\n",
    "    if tipo is 'L2':\n",
    "        #\n",
    "        # Escribe aqui tu código\n",
    "        #\n",
    "    elif tipo is 'L1':\n",
    "        #\n",
    "        # Escribe aqui tu código\n",
    "        #\n",
    "    else:\n",
    "        raise ValueError(\"Solo está programada por el momento la regularización para L1 y L2\")        \n",
    "    return None\n",
    "\n",
    "\n",
    "def grad_costo_reg(x, y, w, b, lmda, tipo):\n",
    "    \"\"\"\n",
    "    Calcula el gradiente respecto a w y b de los datos existentes\n",
    "    \n",
    "    Parámetros\n",
    "    ----------\n",
    "    x: ndarray de dimension [M, n] con los datos de entrada\n",
    "    y: ndarray de dimension [M,] con los datos de salida\n",
    "    w: ndarray de dimension [n, ] con los pesos \n",
    "    b: flotante con el sesgo \n",
    "    lmda: Un flotante con el valor de lambda para la regularización\n",
    "    tipo: string con el tipo de regularización ('L2' o 'L1')\n",
    "    \n",
    "    Devuelve\n",
    "    ---------\n",
    "    dw, db donde dw es un vector de dimension de w con el gradiente\n",
    "           de la función de costo respecto a w, y db es la derivada de la\n",
    "           funcion de costo respecto a b\n",
    "\n",
    "    \"\"\"\n",
    "    M, n = x.shape\n",
    "    \n",
    "    error = y - (x @ w + b)\n",
    "    \n",
    "    # --aqui hay que poner código--        \n",
    "\n",
    "    \n",
    "    \n",
    "    #------------------------------\n",
    "\n",
    "    return dw, db \n",
    "\n",
    "    \n",
    "def des_grad_regu(x, y, w_0, b_0, alpha, num_iter, lmda, tipo):\n",
    "    \"\"\"\n",
    "    Descenso de gradiente durante num_iter iteraciones para regresión lineal\n",
    "    \n",
    "    Parámetros\n",
    "    ----------\n",
    "    x: ndarray de dimension [M, n] con los datos de entrada\n",
    "    y: ndarray de dimension [M,] con los datos de salida\n",
    "    w_0: ndarray de dimension [n, ] con los pesos iniciales\n",
    "    b_0: flotante con el sesgo inicial\n",
    "    alpha: flotante con tamaño de paso o tasa de aprendizaje.\n",
    "    num_iter: numero de iteraciones (entero)\n",
    "    lmda: Un flotante con el valor de lambda para la regularización\n",
    "    tipo: string con el tipo de regularización ('L2' o 'L1')\n",
    "    \n",
    "    Devuelve\n",
    "    --------\n",
    "    w, b, mse_iter: donde w y b tiene las dimensiones de w_0 y b_0 con los parámetros aprendidos, \n",
    "                    mientras que mse_hist es un ndarray de dimensión [num_iter, 1] con el costo en cada iteración.\n",
    "    \n",
    "    \"\"\"\n",
    "    w, b = w_0.copy(), b_0\n",
    "    costo_iter = np.zeros(num_iter)    \n",
    "    M, n = x.shape\n",
    "    \n",
    "    for iter in range(num_iter):\n",
    "        dw, db = grad_costo(x, y, w, b)\n",
    "            \n",
    "        # --aqui hay que poner código--        \n",
    "\n",
    "        \n",
    "        #------------------------------\n",
    "        \n",
    "        costo_iter[iter] = costo(x, y, w, b, lmda, tipo)\n",
    "\n",
    "    return w, b, costo_iter\n",
    "\n",
    "# Y para asegurarnos que funciona vamos a probar con un problema de juguete\n",
    "# que se puede resolver  mano para estar seguros que está bien programado\n",
    "\n",
    "w, b = np.array([1., 2., -2., 1., 1.]), 0.1\n",
    "\n",
    "assert reg(w, 'L1') == 7\n",
    "assert reg(w, 'L2') == 11\n",
    "\n",
    "x = np.array([[1, 0, 0,  0, -1],\n",
    "              [0, 1, -1, 0,  0]])\n",
    "y = np.array([0.5, 3.8])\n",
    "\n",
    "for lmbda in [0, .1, 1, 10, 100]:\n",
    "    assert abs(costo(x, y, w, b, lmbda, tipo='L1') - (0.25 / 4  + lmbda * 7 / 2)) < 1e-6\n",
    "    assert abs(costo(x, y, w, b, lmbda, tipo='L2') - (0.25 / 4  + lmbda * 11 / 2)) < 1e-6\n",
    "\n",
    "    dw, db = grad_costo_reg(x, y, w, b, lmbda, tipo='L2')\n",
    "    assert np.abs(dw - (np.array([-.2, .15, -.15, 0, .2]) + lmbda * w)).sum() < 1e-6\n",
    "\n",
    "    dw, db = grad_costo_reg(x, y, w, b, lmbda, tipo='L1')\n",
    "    assert np.abs(dw - (np.array([-.2, .15, -.15, 0, .2]) + lmbda * np.sign(w) / 2)).sum() < 1e-6"
   ]
  },
  {
   "cell_type": "markdown",
   "metadata": {},
   "source": [
    "Ahora, yo voy a probr con la regularización, pero utilizando el método analítico por pseudoinversa que es muy eficiente, y les dejo a ustedes la tarea de batallar con el descenso de gradiente, con el fin que vean la ventaja de utilizar regularización. Para esto, vamos a resolver el problema con la regularización $L2$, para la cual existe ua solución analítica muy parecida a la pseudoinversa..\n",
    "\n",
    "Todos los pasos para derivar la regularización en $L2$ y algunas sobre la regularización en $L1$ se pueden encontrar [en esta presentación](http://eniac.cs.qc.cuny.edu/andrew/gcml/lecture5.pdf). La formula analítica para la regresión lineal con regularización $L2$ está dada por:\n",
    "\n",
    "$$\n",
    "w^* = (X^TX + \\lambda I_0)^{-1}X^T Y\n",
    "$$\n",
    "donde $I_0$ es una matriz diagonal a la cual el elemento $I_{1,1}$ se asigna a $0$ (para no incluir el sesgo en la regularización).\n",
    "\n",
    "Por ejemplo, si hacemos la regresion lineal con un polinomio de décimo grado, conforme $\\lambda$ aumenta, el error de validación y de prueba se modifican de la siguiente manera:"
   ]
  },
  {
   "cell_type": "code",
   "execution_count": null,
   "metadata": {},
   "outputs": [],
   "source": [
    "grado = 10\n",
    "x_g = np.power(x_train.reshape(-1,1), range(0, grado + 1))\n",
    "x_g_plot = np.power(x_plot.reshape(-1,1), range(0, grado + 1))\n",
    "\n",
    "M_train = x_train.shape[0]\n",
    "M_plot = x_plot.shape[0]\n",
    "\n",
    "I_0 = np.eye(grado + 1)\n",
    "I_0[0, 0] = 0.0\n",
    "\n",
    "lambdas = 0.001 * np.array([0, .01, .05, 0.1, 0.5, 1, 5, 10, 50, 100, 500])\n",
    "e_train = np.zeros_like(lambdas)\n",
    "e_verif = np.zeros_like(lambdas)\n",
    "\n",
    "for (i, lambd) in enumerate(lambdas):\n",
    "    w = np.linalg.inv(x_g.T @ x_g + (lambd * I_0)) @ x_g.T @ y_train\n",
    "\n",
    "    error_train = y_train - x_g @ w\n",
    "    error_verif = y_plot - x_g_plot @ w\n",
    "    \n",
    "    e_train[i] = (error_train.T @ error_train) / (2 * M_train)\n",
    "    e_verif[i] = (error_verif.T @ error_verif) / (2 * M_plot)\n",
    "\n",
    "plt.loglog(lambdas, e_train, label=\"Error en muestra\")\n",
    "plt.loglog(lambdas, e_verif, label=\"Estimado de error fuera de muestra\")\n",
    "plt.legend()"
   ]
  },
  {
   "cell_type": "markdown",
   "metadata": {},
   "source": [
    "**Prueba para distintos polinomios y responde la pregunta ¿Porqué se comporta de la manera que lo hace con el polinomio de orden 10?**"
   ]
  },
  {
   "cell_type": "markdown",
   "metadata": {},
   "source": [
    "Ahora vamos a ver que pasa con las diferentes regularizacióne con el polinomio si vemos la predicción que realiza"
   ]
  },
  {
   "cell_type": "code",
   "execution_count": null,
   "metadata": {},
   "outputs": [],
   "source": [
    "grado = 10\n",
    "\n",
    "x_g = np.power(x_train.reshape(-1,1), range(0, grado + 1))\n",
    "x_g_plot = np.power(x_plot.reshape(-1,1), range(0, grado + 1))\n",
    "\n",
    "plt.plot(x_plot, y_plot, label=\"La función original\", linewidth=5)\n",
    "plt.scatter(x_train, y_train, label=\"datos para el entrenamiento\")\n",
    "\n",
    "I_0 = np.eye(grado + 1)\n",
    "I_0[0, 0] = 0.0\n",
    "\n",
    "lambdas = 0.001 * np.array([0, .01, .05, 0.1, 0.5, 1, 5, 10, 50, 100, 500])\n",
    "for lambd in lambdas:\n",
    "    w = np.linalg.inv(x_g.T @ x_g + (lambd * I_0)) @ x_g.T @ y_train\n",
    "\n",
    "    y_est = x_g_plot @ w\n",
    "    plt.plot(x_plot, y_est, label=\"polinomio orden {} y lambda = {}\".format(grado, lambd))\n",
    "\n",
    "plt.legend()\n",
    "plt.axis([0, 10, -0.5, 1])   "
   ]
  },
  {
   "cell_type": "markdown",
   "metadata": {},
   "source": [
    "**Escribe ahora tu función de regularización utilizando el descenso de gradiente**\n",
    "\n",
    "Espacio para escribir conclusiones"
   ]
  },
  {
   "cell_type": "code",
   "execution_count": null,
   "metadata": {},
   "outputs": [],
   "source": [
    "## --- Agrega aqui tu código ----\n",
    "\n",
    "\n"
   ]
  }
 ],
 "metadata": {
  "kernelspec": {
   "display_name": "Python 3",
   "language": "python",
   "name": "python3"
  },
  "language_info": {
   "codemirror_mode": {
    "name": "ipython",
    "version": 3
   },
   "file_extension": ".py",
   "mimetype": "text/x-python",
   "name": "python",
   "nbconvert_exporter": "python",
   "pygments_lexer": "ipython3",
   "version": "3.7.4"
  }
 },
 "nbformat": 4,
 "nbformat_minor": 2
}
